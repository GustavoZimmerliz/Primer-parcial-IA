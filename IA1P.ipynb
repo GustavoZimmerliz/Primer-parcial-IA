{
 "cells": [
  {
   "cell_type": "code",
   "execution_count": 38,
   "metadata": {},
   "outputs": [],
   "source": [
    "import pandas as pd\n",
    "import numpy as np\n",
    "from sklearn.model_selection import train_test_split, GridSearchCV\n",
    "from sklearn.preprocessing import StandardScaler\n",
    "from sklearn.linear_model import Ridge\n",
    "from sklearn.metrics import mean_squared_error"
   ]
  },
  {
   "cell_type": "markdown",
   "metadata": {},
   "source": [
    "Cargar el dataset"
   ]
  },
  {
   "cell_type": "code",
   "execution_count": 39,
   "metadata": {},
   "outputs": [],
   "source": [
    "data = pd.read_csv(\"Temp_Asu20092021.csv\")"
   ]
  },
  {
   "cell_type": "code",
   "execution_count": 40,
   "metadata": {},
   "outputs": [
    {
     "name": "stdout",
     "output_type": "stream",
     "text": [
      "Fitting 3 folds for each of 5 candidates, totalling 15 fits\n",
      "Mejores hiperparámetros:\n",
      "{'alpha': 0.01}\n",
      "Mean Squared Error en validación: 16.82617483703702\n",
      "Root Mean Squared Error: 4.101972066827981\n"
     ]
    }
   ],
   "source": [
    "# Convertir la columna 'Fecha' a tipo datetime\n",
    "data['Fecha'] = pd.to_datetime(data['Fecha'])\n",
    "\n",
    "# Establecer la columna 'Fecha' como índice\n",
    "data.set_index('Fecha', inplace=True)\n",
    "\n",
    "# Filtrar datos desde 2019 en adelante\n",
    "data = data[data.index.year >= 2019]\n",
    "\n",
    "# Eliminar filas con valores faltantes\n",
    "data.dropna(inplace=True)\n",
    "\n",
    "# Resamplear el conjunto de datos a intervalos diarios\n",
    "# Calcular la temperatura máxima diaria\n",
    "daily_max_temperatures = data['Temperatura'].resample('D').max()\n",
    "\n",
    "# Calcular la temperatura media diaria\n",
    "daily_mean_temperatures = data['Temperatura'].resample('D').mean()\n",
    "\n",
    "# Definir la variable objetivo (target) como la temperatura máxima desplazada\n",
    "salida = daily_max_temperatures.shift(-1)\n",
    "\n",
    "# Eliminar el último valor de las series debido al `shift(-1)`\n",
    "daily_max_temperatures = daily_max_temperatures[:-1]\n",
    "daily_mean_temperatures = daily_mean_temperatures[:-1]\n",
    "salida = salida[:-1]\n",
    "\n",
    "# Definir características (features): temperatura máxima y media diarias\n",
    "X = np.column_stack([daily_max_temperatures.values, daily_mean_temperatures.values])\n",
    "y = salida.values\n",
    "\n",
    "# Normalizar las características\n",
    "scaler = StandardScaler()\n",
    "X_scaled = scaler.fit_transform(X)\n",
    "\n",
    "# Dividir los datos en conjuntos de entrenamiento y validación\n",
    "train_indices = daily_max_temperatures.index.year <= 2020\n",
    "val_indices = daily_max_temperatures.index.year == 2021\n",
    "\n",
    "X_train, X_val = X_scaled[train_indices], X_scaled[val_indices]\n",
    "y_train, y_val = y[train_indices], y[val_indices]\n",
    "\n",
    "# Definir el modelo de regresión Ridge\n",
    "ridge = Ridge()\n",
    "\n",
    "# Definir la cuadrícula de parámetros para GridSearch\n",
    "param_grid = {\n",
    "    'alpha': [0.01, 0.1, 1.0, 10.0, 100.0]  # Regularización L2\n",
    "}\n",
    "\n",
    "# Usar GridSearchCV para buscar los mejores hiperparámetros\n",
    "grid_search = GridSearchCV(estimator=ridge, param_grid=param_grid, cv=3, scoring='neg_mean_squared_error', verbose=1, n_jobs=-1)\n",
    "grid_search.fit(X_train, y_train)\n",
    "\n",
    "# Imprimir los mejores hiperparámetros encontrados\n",
    "print(\"Mejores hiperparámetros:\")\n",
    "print(grid_search.best_params_)\n",
    "\n",
    "# Evaluar el modelo con los mejores hiperparámetros en el conjunto de validación\n",
    "best_model = grid_search.best_estimator_\n",
    "y_pred = best_model.predict(X_val)\n",
    "mse = mean_squared_error(y_val, y_pred)\n",
    "print(f\"Mean Squared Error en validación: {mse}\")\n",
    "print(f\"Root Mean Squared Error: {np.sqrt(mse)}\")"
   ]
  }
 ],
 "metadata": {
  "kernelspec": {
   "display_name": "Python 3",
   "language": "python",
   "name": "python3"
  },
  "language_info": {
   "codemirror_mode": {
    "name": "ipython",
    "version": 3
   },
   "file_extension": ".py",
   "mimetype": "text/x-python",
   "name": "python",
   "nbconvert_exporter": "python",
   "pygments_lexer": "ipython3",
   "version": "3.12.5"
  }
 },
 "nbformat": 4,
 "nbformat_minor": 2
}
